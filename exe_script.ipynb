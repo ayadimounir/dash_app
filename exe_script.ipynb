{
 "cells": [
  {
   "cell_type": "code",
   "execution_count": 6,
   "metadata": {},
   "outputs": [],
   "source": [
    "import os\n",
    "from subprocess import Popen\n",
    "import sys\n",
    "import threading\n",
    "import time\n",
    "import webbrowser\n",
    "\n",
    "# Function to open the web browser after a delay\n",
    "def open_browser():\n",
    "    time.sleep(0.5)\n",
    "    webbrowser.open(\"http://127.0.0.1:8050/\")\n",
    "\n",
    "# Function to run the Dash server\n",
    "def run_server():\n",
    "    os.system('DBP_Machine_Learning.py')\n",
    "\n",
    "if __name__ == \"__main__\":\n",
    "    threading.Thread(target=open_browser).start()\n",
    "    run_server()"
   ]
  }
 ],
 "metadata": {
  "kernelspec": {
   "display_name": "Python 3",
   "language": "python",
   "name": "python3"
  },
  "language_info": {
   "codemirror_mode": {
    "name": "ipython",
    "version": 3
   },
   "file_extension": ".py",
   "mimetype": "text/x-python",
   "name": "python",
   "nbconvert_exporter": "python",
   "pygments_lexer": "ipython3",
   "version": "3.12.1"
  }
 },
 "nbformat": 4,
 "nbformat_minor": 2
}
