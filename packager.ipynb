{
 "cells": [
  {
   "cell_type": "code",
   "execution_count": null,
   "metadata": {},
   "outputs": [],
   "source": [
    "import os\n",
    "from subprocess import Popen\n",
    "import sys\n",
    "import threading\n",
    "import time\n",
    "import webbrowser\n",
    "\n",
    "# Function to open the web browser after a delay\n",
    "def open_browser():\n",
    "    time.sleep(2)\n",
    "    webbrowser.open(\"http://127.0.0.1:8050/\")\n",
    "\n",
    "# Function to run the Dash server\n",
    "def run_server():\n",
    "    os.system('python app.py')\n",
    "\n",
    "if __name__ == \"__main__\":\n",
    "    threading.Thread(target=open_browser).start()\n",
    "    run_server()"
   ]
  }
 ],
 "metadata": {
  "language_info": {
   "name": "python"
  }
 },
 "nbformat": 4,
 "nbformat_minor": 2
}
